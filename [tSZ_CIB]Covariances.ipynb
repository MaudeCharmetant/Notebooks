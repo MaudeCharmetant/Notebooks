{
 "cells": [
  {
   "cell_type": "code",
   "execution_count": 1,
   "metadata": {
    "ExecuteTime": {
     "end_time": "2021-05-24T08:16:34.870354Z",
     "start_time": "2021-05-24T08:16:20.670113Z"
    }
   },
   "outputs": [],
   "source": [
    "import CILC as CILC \n",
    "import ccatp_sky_model as sky\n",
    "import healpy as hp\n",
    "import matplotlib.cm as cm\n",
    "import matplotlib.pyplot as plt \n",
    "import numpy as np\n",
    "import pymaster as PyM\n",
    "import fMaps as fM\n",
    "from matplotlib.ticker import MaxNLocator"
   ]
  },
  {
   "cell_type": "markdown",
   "metadata": {},
   "source": [
    "# SO :"
   ]
  },
  {
   "cell_type": "code",
   "execution_count": 3,
   "metadata": {
    "ExecuteTime": {
     "end_time": "2021-05-24T08:17:15.432539Z",
     "start_time": "2021-05-24T08:17:15.428621Z"
    }
   },
   "outputs": [],
   "source": [
    "freq_SO = [93e9,145e9,220e9,280e9]\n",
    "noise_SO = [8,10,22,54] \n",
    "beam_SO = {0:2.2,1:1.4,2:1.0, 3:0.9}\n",
    "dic_freq_SO = {0:93,1:145,2:220,3:280}"
   ]
  },
  {
   "cell_type": "code",
   "execution_count": 4,
   "metadata": {
    "ExecuteTime": {
     "end_time": "2021-05-24T09:13:00.895518Z",
     "start_time": "2021-05-24T08:21:45.338495Z"
    }
   },
   "outputs": [
    {
     "name": "stdout",
     "output_type": "stream",
     "text": [
      "Computing CIB...\n",
      "NSIDE = 4096\n",
      "ORDERING = RING in fits file\n",
      "INDXSCHM = IMPLICIT\n",
      "NSIDE = 4096\n",
      "ORDERING = RING in fits file\n",
      "INDXSCHM = IMPLICIT\n",
      "NSIDE = 4096\n",
      "ORDERING = RING in fits file\n",
      "INDXSCHM = IMPLICIT\n",
      "CIB complete.\n",
      "Computing CMB...\n",
      "NSIDE = 4096\n",
      "ORDERING = RING in fits file\n",
      "INDXSCHM = IMPLICIT\n",
      "CMB complete.\n",
      "Computing tSZ...\n",
      "NSIDE = 4096\n",
      "ORDERING = RING in fits file\n",
      "INDXSCHM = IMPLICIT\n",
      "tSZ complete.\n",
      "Computing kSZ...\n",
      "NSIDE = 4096\n",
      "ORDERING = RING in fits file\n",
      "INDXSCHM = IMPLICIT\n",
      "kSZ complete.\n",
      "Begin smoothing...\n",
      "Sigma is 0.934254 arcmin (0.000272 rad) \n",
      "-> fwhm is 2.200000 arcmin\n",
      "Sigma is 0.000000 arcmin (0.000000 rad) \n",
      "-> fwhm is 0.000000 arcmin\n",
      "Smoothing complete.\n",
      "Computing white noise...\n",
      "White noise complete.\n",
      "Done!\n",
      "Computing CIB...\n",
      "NSIDE = 4096\n",
      "ORDERING = RING in fits file\n",
      "INDXSCHM = IMPLICIT\n",
      "NSIDE = 4096\n",
      "ORDERING = RING in fits file\n",
      "INDXSCHM = IMPLICIT\n",
      "NSIDE = 4096\n",
      "ORDERING = RING in fits file\n",
      "INDXSCHM = IMPLICIT\n",
      "CIB complete.\n",
      "Computing CMB...\n",
      "NSIDE = 4096\n",
      "ORDERING = RING in fits file\n",
      "INDXSCHM = IMPLICIT\n",
      "CMB complete.\n",
      "Computing tSZ...\n",
      "NSIDE = 4096\n",
      "ORDERING = RING in fits file\n",
      "INDXSCHM = IMPLICIT\n",
      "tSZ complete.\n",
      "Computing kSZ...\n",
      "NSIDE = 4096\n",
      "ORDERING = RING in fits file\n",
      "INDXSCHM = IMPLICIT\n",
      "kSZ complete.\n",
      "Begin smoothing...\n",
      "Sigma is 0.594525 arcmin (0.000173 rad) \n",
      "-> fwhm is 1.400000 arcmin\n",
      "Sigma is 0.000000 arcmin (0.000000 rad) \n",
      "-> fwhm is 0.000000 arcmin\n",
      "Smoothing complete.\n",
      "Computing white noise...\n",
      "White noise complete.\n",
      "Done!\n",
      "Computing CIB...\n",
      "NSIDE = 4096\n",
      "ORDERING = RING in fits file\n",
      "INDXSCHM = IMPLICIT\n",
      "NSIDE = 4096\n",
      "ORDERING = RING in fits file\n",
      "INDXSCHM = IMPLICIT\n",
      "NSIDE = 4096\n",
      "ORDERING = RING in fits file\n",
      "INDXSCHM = IMPLICIT\n",
      "CIB complete.\n",
      "Computing CMB...\n",
      "NSIDE = 4096\n",
      "ORDERING = RING in fits file\n",
      "INDXSCHM = IMPLICIT\n",
      "CMB complete.\n",
      "Computing tSZ...\n",
      "NSIDE = 4096\n",
      "ORDERING = RING in fits file\n",
      "INDXSCHM = IMPLICIT\n",
      "tSZ complete.\n",
      "Computing kSZ...\n",
      "NSIDE = 4096\n",
      "ORDERING = RING in fits file\n",
      "INDXSCHM = IMPLICIT\n",
      "kSZ complete.\n",
      "Begin smoothing...\n",
      "Sigma is 0.424661 arcmin (0.000124 rad) \n",
      "-> fwhm is 1.000000 arcmin\n",
      "Sigma is 0.000000 arcmin (0.000000 rad) \n",
      "-> fwhm is 0.000000 arcmin\n",
      "Smoothing complete.\n",
      "Computing white noise...\n",
      "White noise complete.\n",
      "Done!\n",
      "Computing CIB...\n",
      "NSIDE = 4096\n",
      "ORDERING = RING in fits file\n",
      "INDXSCHM = IMPLICIT\n",
      "NSIDE = 4096\n",
      "ORDERING = RING in fits file\n",
      "INDXSCHM = IMPLICIT\n",
      "NSIDE = 4096\n",
      "ORDERING = RING in fits file\n",
      "INDXSCHM = IMPLICIT\n",
      "CIB complete.\n",
      "Computing CMB...\n",
      "NSIDE = 4096\n",
      "ORDERING = RING in fits file\n",
      "INDXSCHM = IMPLICIT\n",
      "CMB complete.\n",
      "Computing tSZ...\n",
      "NSIDE = 4096\n",
      "ORDERING = RING in fits file\n",
      "INDXSCHM = IMPLICIT\n",
      "tSZ complete.\n",
      "Computing kSZ...\n",
      "NSIDE = 4096\n",
      "ORDERING = RING in fits file\n",
      "INDXSCHM = IMPLICIT\n",
      "kSZ complete.\n",
      "Begin smoothing...\n",
      "Sigma is 0.382195 arcmin (0.000111 rad) \n",
      "-> fwhm is 0.900000 arcmin\n",
      "Sigma is 0.000000 arcmin (0.000000 rad) \n",
      "-> fwhm is 0.000000 arcmin\n",
      "Smoothing complete.\n",
      "Computing white noise...\n",
      "White noise complete.\n",
      "Done!\n"
     ]
    }
   ],
   "source": [
    "P_maps_array_SO =[]\n",
    "for i in range(len(dic_freq_SO)): \n",
    "    full_sky = sky.ccatp_sky_model(freq=freq_SO[i], sensitivity=noise_SO[i], components=['tsz','cib','cmb','ksz'],\n",
    "                                   red_noise=False,cl_file=None, lensed=False, out_file=None, nside_out=4096,\n",
    "                                   lmax=None, beam_FWHM=beam_SO[i], template='SO', unit='mjy')\n",
    "    \n",
    "    P_maps_array_SO.append(full_sky)"
   ]
  },
  {
   "cell_type": "code",
   "execution_count": 7,
   "metadata": {
    "ExecuteTime": {
     "end_time": "2021-05-24T09:29:15.476964Z",
     "start_time": "2021-05-24T09:27:21.472353Z"
    }
   },
   "outputs": [],
   "source": [
    "cov_SO = CILC.covcorr_matrix(data=P_maps_array_SO,rowvar=True,mask=None,dic_freq=dic_freq_SO)"
   ]
  },
  {
   "cell_type": "code",
   "execution_count": 19,
   "metadata": {
    "ExecuteTime": {
     "end_time": "2021-05-24T11:38:57.366255Z",
     "start_time": "2021-05-24T11:38:56.299712Z"
    }
   },
   "outputs": [
    {
     "name": "stderr",
     "output_type": "stream",
     "text": [
      "/users/mcharmetant/anaconda3/lib/python3.6/site-packages/matplotlib/font_manager.py:1328: UserWarning: findfont: Font family ['sans-serif'] not found. Falling back to DejaVu Sans\n",
      "  (prop.get_family(), self.defaultFamily[fontext]))\n"
     ]
    },
    {
     "data": {
      "image/png": "[encoded data removed]",
      "text/plain": [
       "<Figure size 432x288 with 2 Axes>"
      ]
     },
     "metadata": {},
     "output_type": "display_data"
    }
   ],
   "source": [
    "plt.imshow(cov_SO[0], origin='lower')\n",
    "plt.colorbar(label='$Dimensionless$')\n",
    "plt.show()"
   ]
  },
  {
   "cell_type": "markdown",
   "metadata": {},
   "source": [
    "# CAMB : "
   ]
  },
  {
   "cell_type": "code",
   "execution_count": 11,
   "metadata": {
    "ExecuteTime": {
     "end_time": "2021-05-24T09:39:19.825279Z",
     "start_time": "2021-05-24T09:31:03.570790Z"
    }
   },
   "outputs": [
    {
     "name": "stdout",
     "output_type": "stream",
     "text": [
      "Computing CIB...\n",
      "NSIDE = 4096\n",
      "ORDERING = RING in fits file\n",
      "INDXSCHM = IMPLICIT\n",
      "NSIDE = 4096\n",
      "ORDERING = RING in fits file\n",
      "INDXSCHM = IMPLICIT\n",
      "NSIDE = 4096\n",
      "ORDERING = RING in fits file\n",
      "INDXSCHM = IMPLICIT\n",
      "CIB complete.\n",
      "Computing CMB...\n"
     ]
    },
    {
     "name": "stderr",
     "output_type": "stream",
     "text": [
      "/users/mcharmetant/anaconda3/lib/python3.6/site-packages/healpy/sphtfunc.py:395: FutureChangeWarning: The order of the input cl's will change in a future release.\n",
      "Use new=True keyword to start using the new order.\n",
      "See documentation of healpy.synalm.\n",
      "  category=FutureChangeWarning,\n"
     ]
    },
    {
     "name": "stdout",
     "output_type": "stream",
     "text": [
      "Sigma is 0.000000 arcmin (0.000000 rad) \n",
      "-> fwhm is 0.000000 arcmin\n",
      "CMB complete.\n",
      "Computing tSZ...\n",
      "NSIDE = 4096\n",
      "ORDERING = RING in fits file\n",
      "INDXSCHM = IMPLICIT\n",
      "tSZ complete.\n",
      "Computing kSZ...\n",
      "NSIDE = 4096\n",
      "ORDERING = RING in fits file\n",
      "INDXSCHM = IMPLICIT\n",
      "kSZ complete.\n",
      "Begin smoothing...\n",
      "Sigma is 0.934254 arcmin (0.000272 rad) \n",
      "-> fwhm is 2.200000 arcmin\n",
      "Sigma is 0.000000 arcmin (0.000000 rad) \n",
      "-> fwhm is 0.000000 arcmin\n",
      "Smoothing complete.\n",
      "Computing white noise...\n",
      "White noise complete.\n",
      "Done!\n",
      "Computing CIB...\n",
      "NSIDE = 4096\n",
      "ORDERING = RING in fits file\n",
      "INDXSCHM = IMPLICIT\n",
      "NSIDE = 4096\n",
      "ORDERING = RING in fits file\n",
      "INDXSCHM = IMPLICIT\n",
      "NSIDE = 4096\n",
      "ORDERING = RING in fits file\n",
      "INDXSCHM = IMPLICIT\n",
      "CIB complete.\n",
      "Computing CMB...\n",
      "Sigma is 0.000000 arcmin (0.000000 rad) \n",
      "-> fwhm is 0.000000 arcmin\n",
      "CMB complete.\n",
      "Computing tSZ...\n",
      "NSIDE = 4096\n",
      "ORDERING = RING in fits file\n",
      "INDXSCHM = IMPLICIT\n",
      "tSZ complete.\n",
      "Computing kSZ...\n",
      "NSIDE = 4096\n",
      "ORDERING = RING in fits file\n",
      "INDXSCHM = IMPLICIT\n",
      "kSZ complete.\n",
      "Begin smoothing...\n",
      "Sigma is 0.594525 arcmin (0.000173 rad) \n",
      "-> fwhm is 1.400000 arcmin\n",
      "Sigma is 0.000000 arcmin (0.000000 rad) \n",
      "-> fwhm is 0.000000 arcmin\n",
      "Smoothing complete.\n",
      "Computing white noise...\n",
      "White noise complete.\n",
      "Done!\n",
      "Computing CIB...\n",
      "NSIDE = 4096\n",
      "ORDERING = RING in fits file\n",
      "INDXSCHM = IMPLICIT\n",
      "NSIDE = 4096\n",
      "ORDERING = RING in fits file\n",
      "INDXSCHM = IMPLICIT\n",
      "NSIDE = 4096\n",
      "ORDERING = RING in fits file\n",
      "INDXSCHM = IMPLICIT\n",
      "CIB complete.\n",
      "Computing CMB...\n",
      "Sigma is 0.000000 arcmin (0.000000 rad) \n",
      "-> fwhm is 0.000000 arcmin\n",
      "CMB complete.\n",
      "Computing tSZ...\n",
      "NSIDE = 4096\n",
      "ORDERING = RING in fits file\n",
      "INDXSCHM = IMPLICIT\n",
      "tSZ complete.\n",
      "Computing kSZ...\n",
      "NSIDE = 4096\n",
      "ORDERING = RING in fits file\n",
      "INDXSCHM = IMPLICIT\n",
      "kSZ complete.\n",
      "Begin smoothing...\n",
      "Sigma is 0.424661 arcmin (0.000124 rad) \n",
      "-> fwhm is 1.000000 arcmin\n",
      "Sigma is 0.000000 arcmin (0.000000 rad) \n",
      "-> fwhm is 0.000000 arcmin\n",
      "Smoothing complete.\n",
      "Computing white noise...\n",
      "White noise complete.\n",
      "Done!\n",
      "Computing CIB...\n",
      "NSIDE = 4096\n",
      "ORDERING = RING in fits file\n",
      "INDXSCHM = IMPLICIT\n",
      "NSIDE = 4096\n",
      "ORDERING = RING in fits file\n",
      "INDXSCHM = IMPLICIT\n",
      "NSIDE = 4096\n",
      "ORDERING = RING in fits file\n",
      "INDXSCHM = IMPLICIT\n",
      "CIB complete.\n",
      "Computing CMB...\n",
      "Sigma is 0.000000 arcmin (0.000000 rad) \n",
      "-> fwhm is 0.000000 arcmin\n",
      "CMB complete.\n",
      "Computing tSZ...\n",
      "NSIDE = 4096\n",
      "ORDERING = RING in fits file\n",
      "INDXSCHM = IMPLICIT\n",
      "tSZ complete.\n",
      "Computing kSZ...\n",
      "NSIDE = 4096\n",
      "ORDERING = RING in fits file\n",
      "INDXSCHM = IMPLICIT\n",
      "kSZ complete.\n",
      "Begin smoothing...\n",
      "Sigma is 0.382195 arcmin (0.000111 rad) \n",
      "-> fwhm is 0.900000 arcmin\n",
      "Sigma is 0.000000 arcmin (0.000000 rad) \n",
      "-> fwhm is 0.000000 arcmin\n",
      "Smoothing complete.\n",
      "Computing white noise...\n",
      "White noise complete.\n",
      "Done!\n"
     ]
    }
   ],
   "source": [
    "P_maps_array_CAMB =[]\n",
    "for i in range(len(dic_freq_SO)): \n",
    "    full_sky = sky.ccatp_sky_model(freq=freq_SO[i], sensitivity=noise_SO[i], components=['tsz','cib','cmb','ksz'],\n",
    "                                   red_noise=False,cl_file='/vol/aibn1118/data1/mcharmetant/Data/CAMB/CIBtSZ_leakage_CMB.txt',\n",
    "                                   lensed=False, out_file=None, nside_out=4096,\n",
    "                                   lmax=None, beam_FWHM=beam_SO[i], template='WebSky', unit='mjy')\n",
    "    \n",
    "    P_maps_array_CAMB.append(full_sky)"
   ]
  },
  {
   "cell_type": "code",
   "execution_count": 13,
   "metadata": {
    "ExecuteTime": {
     "end_time": "2021-05-24T10:20:39.873317Z",
     "start_time": "2021-05-24T09:44:11.218068Z"
    }
   },
   "outputs": [],
   "source": [
    "cov_CAMB = CILC.covcorr_matrix(data=P_maps_array_CAMB,rowvar=True,mask=None,dic_freq=dic_freq_SO)"
   ]
  },
  {
   "cell_type": "code",
   "execution_count": 20,
   "metadata": {
    "ExecuteTime": {
     "end_time": "2021-05-24T11:39:05.281385Z",
     "start_time": "2021-05-24T11:39:03.921719Z"
    }
   },
   "outputs": [
    {
     "name": "stderr",
     "output_type": "stream",
     "text": [
      "/users/mcharmetant/anaconda3/lib/python3.6/site-packages/matplotlib/font_manager.py:1328: UserWarning: findfont: Font family ['sans-serif'] not found. Falling back to DejaVu Sans\n",
      "  (prop.get_family(), self.defaultFamily[fontext]))\n"
     ]
    },
    {
     "data": {
      "image/png": "[encoded data removed]",
      "text/plain": [
       "<Figure size 432x288 with 2 Axes>"
      ]
     },
     "metadata": {},
     "output_type": "display_data"
    }
   ],
   "source": [
    "plt.imshow(cov_CAMB[0], origin='lower')\n",
    "plt.colorbar(label='$Dimensionless$')\n",
    "plt.show()"
   ]
  },
  {
   "cell_type": "markdown",
   "metadata": {},
   "source": [
    "# CITA : "
   ]
  },
  {
   "cell_type": "code",
   "execution_count": 15,
   "metadata": {
    "ExecuteTime": {
     "end_time": "2021-05-24T10:28:57.026138Z",
     "start_time": "2021-05-24T10:22:56.529537Z"
    }
   },
   "outputs": [
    {
     "name": "stdout",
     "output_type": "stream",
     "text": [
      "Computing CIB...\n",
      "NSIDE = 4096\n",
      "ORDERING = RING in fits file\n",
      "INDXSCHM = IMPLICIT\n",
      "NSIDE = 4096\n",
      "ORDERING = RING in fits file\n",
      "INDXSCHM = IMPLICIT\n",
      "NSIDE = 4096\n",
      "ORDERING = RING in fits file\n",
      "INDXSCHM = IMPLICIT\n",
      "CIB complete.\n",
      "Computing CMB...\n",
      "NSIDE = 4096\n",
      "ORDERING = RING in fits file\n",
      "INDXSCHM = IMPLICIT\n",
      "CMB complete.\n",
      "Computing tSZ...\n",
      "NSIDE = 4096\n",
      "ORDERING = RING in fits file\n",
      "INDXSCHM = IMPLICIT\n",
      "tSZ complete.\n",
      "Computing kSZ...\n",
      "NSIDE = 4096\n",
      "ORDERING = RING in fits file\n",
      "INDXSCHM = IMPLICIT\n",
      "kSZ complete.\n",
      "Begin smoothing...\n",
      "Sigma is 0.934254 arcmin (0.000272 rad) \n",
      "-> fwhm is 2.200000 arcmin\n",
      "Sigma is 0.000000 arcmin (0.000000 rad) \n",
      "-> fwhm is 0.000000 arcmin\n",
      "Smoothing complete.\n",
      "Computing white noise...\n",
      "White noise complete.\n",
      "Done!\n",
      "Computing CIB...\n",
      "NSIDE = 4096\n",
      "ORDERING = RING in fits file\n",
      "INDXSCHM = IMPLICIT\n",
      "NSIDE = 4096\n",
      "ORDERING = RING in fits file\n",
      "INDXSCHM = IMPLICIT\n",
      "NSIDE = 4096\n",
      "ORDERING = RING in fits file\n",
      "INDXSCHM = IMPLICIT\n",
      "CIB complete.\n",
      "Computing CMB...\n",
      "NSIDE = 4096\n",
      "ORDERING = RING in fits file\n",
      "INDXSCHM = IMPLICIT\n",
      "CMB complete.\n",
      "Computing tSZ...\n",
      "NSIDE = 4096\n",
      "ORDERING = RING in fits file\n",
      "INDXSCHM = IMPLICIT\n",
      "tSZ complete.\n",
      "Computing kSZ...\n",
      "NSIDE = 4096\n",
      "ORDERING = RING in fits file\n",
      "INDXSCHM = IMPLICIT\n",
      "kSZ complete.\n",
      "Begin smoothing...\n",
      "Sigma is 0.594525 arcmin (0.000173 rad) \n",
      "-> fwhm is 1.400000 arcmin\n",
      "Sigma is 0.000000 arcmin (0.000000 rad) \n",
      "-> fwhm is 0.000000 arcmin\n",
      "Smoothing complete.\n",
      "Computing white noise...\n",
      "White noise complete.\n",
      "Done!\n",
      "Computing CIB...\n",
      "NSIDE = 4096\n",
      "ORDERING = RING in fits file\n",
      "INDXSCHM = IMPLICIT\n",
      "NSIDE = 4096\n",
      "ORDERING = RING in fits file\n",
      "INDXSCHM = IMPLICIT\n",
      "NSIDE = 4096\n",
      "ORDERING = RING in fits file\n",
      "INDXSCHM = IMPLICIT\n",
      "CIB complete.\n",
      "Computing CMB...\n",
      "NSIDE = 4096\n",
      "ORDERING = RING in fits file\n",
      "INDXSCHM = IMPLICIT\n",
      "CMB complete.\n",
      "Computing tSZ...\n",
      "NSIDE = 4096\n",
      "ORDERING = RING in fits file\n",
      "INDXSCHM = IMPLICIT\n",
      "tSZ complete.\n",
      "Computing kSZ...\n",
      "NSIDE = 4096\n",
      "ORDERING = RING in fits file\n",
      "INDXSCHM = IMPLICIT\n",
      "kSZ complete.\n",
      "Begin smoothing...\n",
      "Sigma is 0.424661 arcmin (0.000124 rad) \n",
      "-> fwhm is 1.000000 arcmin\n",
      "Sigma is 0.000000 arcmin (0.000000 rad) \n",
      "-> fwhm is 0.000000 arcmin\n",
      "Smoothing complete.\n",
      "Computing white noise...\n",
      "White noise complete.\n",
      "Done!\n",
      "Computing CIB...\n",
      "NSIDE = 4096\n",
      "ORDERING = RING in fits file\n",
      "INDXSCHM = IMPLICIT\n",
      "NSIDE = 4096\n",
      "ORDERING = RING in fits file\n",
      "INDXSCHM = IMPLICIT\n",
      "NSIDE = 4096\n",
      "ORDERING = RING in fits file\n",
      "INDXSCHM = IMPLICIT\n",
      "CIB complete.\n",
      "Computing CMB...\n",
      "NSIDE = 4096\n",
      "ORDERING = RING in fits file\n",
      "INDXSCHM = IMPLICIT\n",
      "CMB complete.\n",
      "Computing tSZ...\n",
      "NSIDE = 4096\n",
      "ORDERING = RING in fits file\n",
      "INDXSCHM = IMPLICIT\n",
      "tSZ complete.\n",
      "Computing kSZ...\n",
      "NSIDE = 4096\n",
      "ORDERING = RING in fits file\n",
      "INDXSCHM = IMPLICIT\n",
      "kSZ complete.\n",
      "Begin smoothing...\n",
      "Sigma is 0.382195 arcmin (0.000111 rad) \n",
      "-> fwhm is 0.900000 arcmin\n",
      "Sigma is 0.000000 arcmin (0.000000 rad) \n",
      "-> fwhm is 0.000000 arcmin\n",
      "Smoothing complete.\n",
      "Computing white noise...\n",
      "White noise complete.\n",
      "Done!\n"
     ]
    }
   ],
   "source": [
    "P_maps_array_CITA =[]\n",
    "for i in range(len(dic_freq_SO)): \n",
    "    full_sky = sky.ccatp_sky_model(freq=freq_SO[i], sensitivity=noise_SO[i], components=['tsz','cib','cmb','ksz'],\n",
    "                                   red_noise=False,cl_file=None, lensed=False, out_file=None, nside_out=4096,\n",
    "                                   lmax=None, beam_FWHM=beam_SO[i], template='WebSky', unit='mjy')\n",
    "    \n",
    "    P_maps_array_CITA.append(full_sky)"
   ]
  },
  {
   "cell_type": "code",
   "execution_count": 17,
   "metadata": {
    "ExecuteTime": {
     "end_time": "2021-05-24T11:29:10.405454Z",
     "start_time": "2021-05-24T11:13:36.138419Z"
    }
   },
   "outputs": [],
   "source": [
    "cov_CITA = CILC.covcorr_matrix(data=P_maps_array_CITA,rowvar=True,mask=None,dic_freq=dic_freq_SO)"
   ]
  },
  {
   "cell_type": "code",
   "execution_count": 21,
   "metadata": {
    "ExecuteTime": {
     "end_time": "2021-05-24T11:39:14.666088Z",
     "start_time": "2021-05-24T11:39:13.712062Z"
    }
   },
   "outputs": [
    {
     "name": "stderr",
     "output_type": "stream",
     "text": [
      "/users/mcharmetant/anaconda3/lib/python3.6/site-packages/matplotlib/font_manager.py:1328: UserWarning: findfont: Font family ['sans-serif'] not found. Falling back to DejaVu Sans\n",
      "  (prop.get_family(), self.defaultFamily[fontext]))\n"
     ]
    },
    {
     "data": {
      "image/png": "[encoded data removed]",
      "text/plain": [
       "<Figure size 432x288 with 2 Axes>"
      ]
     },
     "metadata": {},
     "output_type": "display_data"
    }
   ],
   "source": [
    "plt.imshow(cov_CITA[0], origin='lower')\n",
    "plt.colorbar(label='$Dimensionless$')\n",
    "plt.show()"
   ]
  },
  {
   "cell_type": "code",
   "execution_count": null,
   "metadata": {},
   "outputs": [],
   "source": []
  }
 ],
 "metadata": {
  "kernelspec": {
   "display_name": "Python 3",
   "language": "python",
   "name": "python3"
  },
  "language_info": {
   "codemirror_mode": {
    "name": "ipython",
    "version": 3
   },
   "file_extension": ".py",
   "mimetype": "text/x-python",
   "name": "python",
   "nbconvert_exporter": "python",
   "pygments_lexer": "ipython3",
   "version": "3.6.5"
  },
  "toc": {
   "base_numbering": 1,
   "nav_menu": {},
   "number_sections": true,
   "sideBar": true,
   "skip_h1_title": false,
   "title_cell": "Table of Contents",
   "title_sidebar": "Contents",
   "toc_cell": false,
   "toc_position": {},
   "toc_section_display": true,
   "toc_window_display": true
  }
 },
 "nbformat": 4,
 "nbformat_minor": 2
}
